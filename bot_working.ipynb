{
  "nbformat": 4,
  "nbformat_minor": 0,
  "metadata": {
    "colab": {
      "provenance": [],
      "collapsed_sections": []
    },
    "kernelspec": {
      "name": "python3",
      "display_name": "Python 3"
    },
    "language_info": {
      "name": "python"
    }
  },
  "cells": [
    {
      "cell_type": "code",
      "source": [
        "!pip install twython"
      ],
      "metadata": {
        "id": "MFBMGQskP7YQ"
      },
      "execution_count": null,
      "outputs": []
    },
    {
      "cell_type": "code",
      "source": [
        "from twython import Twython, TwythonError\n",
        "import time\n",
        "import sys\n",
        "\n",
        "consumer_key = TWITTER_CONSUMER_API_KEY \n",
        "consumer_secret = TWITTER_CONSUMER_API_SECRET_KEY \n",
        "access_token = TWITTER_ACCESS_TOKEN \n",
        "access_token_secret = TWITTER_ACCESS_TOKEN_SECRET \n",
        "\n",
        "twitter = Twython(consumer_key, consumer_secret, access_token, access_token_secret)"
      ],
      "metadata": {
        "id": "MtxWs4OdWQf_"
      },
      "execution_count": 8,
      "outputs": []
    },
    {
      "cell_type": "code",
      "source": [
        "#created txt file to store ids replied to\n",
        "with open('ids_replied_to.txt', 'w') as f:\n",
        "    f.write('Readme')\n",
        "\n",
        "lines = []\n",
        "with open('ids_replied_to.txt', 'w') as f:\n",
        "    for line in lines:\n",
        "        f.write(line)\n",
        "        f.write('\\n')\n",
        "\n",
        "ids_replied_to = []\n",
        "with open('ids_replied_to.txt', 'r') as filehandle:\n",
        "    filecontents = filehandle.readlines()\n",
        "\n",
        "    for line in filecontents:\n",
        "        # remove linebreak which is the last character of the string\n",
        "        current_place = line[:-1]\n",
        "        # add item to the list\n",
        "        ids_replied_to.append(current_place)\n"
      ],
      "metadata": {
        "id": "RTUF69g5kGbI"
      },
      "execution_count": 3,
      "outputs": []
    },
    {
      "cell_type": "code",
      "source": [
        "search_term = ('@IfeomaBot')\n",
        "\n",
        "results = twitter.cursor(twitter.search, q=search_term)\n",
        "\n",
        "print('')\n",
        "print('Searching Twitter...')\n",
        "print('')"
      ],
      "metadata": {
        "colab": {
          "base_uri": "https://localhost:8080/"
        },
        "id": "MYgEEZ0Kklf0",
        "outputId": "24d06d79-e16f-4008-b5ac-2d9b8a1cbc9d"
      },
      "execution_count": 4,
      "outputs": [
        {
          "output_type": "stream",
          "name": "stdout",
          "text": [
            "\n",
            "Searching Twitter...\n",
            "\n"
          ]
        }
      ]
    },
    {
      "cell_type": "code",
      "source": [
        "for result in results:\n",
        "\n",
        "    name = result['user']\n",
        "    screen_name = name['screen_name']\n",
        "\n",
        "    creation_date = result['created_at']\n",
        "\n",
        "    tweet_txt = result['text']\n",
        "\n",
        "    id = result['id']\n",
        "\n",
        "    print('Twitter User:', screen_name)\n",
        "    print('Posted:')\n",
        "    print(tweet_txt)\n",
        "    print('at:')\n",
        "    print(creation_date)\n",
        "    print('')"
      ],
      "metadata": {
        "colab": {
          "base_uri": "https://localhost:8080/"
        },
        "id": "iM7sjEbCk2Ad",
        "outputId": "493b4836-7a09-449d-b154-55e0642c7731"
      },
      "execution_count": 5,
      "outputs": [
        {
          "output_type": "stream",
          "name": "stdout",
          "text": [
            "Twitter User: naforhere\n",
            "Posted:\n",
            "@IfeomaBot\n",
            "at:\n",
            "Fri Sep 09 13:39:24 +0000 2022\n",
            "\n"
          ]
        }
      ]
    },
    {
      "cell_type": "code",
      "source": [
        "import random"
      ],
      "metadata": {
        "id": "jNSBQGzdlELn"
      },
      "execution_count": 6,
      "outputs": []
    },
    {
      "cell_type": "code",
      "source": [
        " id = str(id)\n",
        " if id in ids_replied_to:\n",
        "   print('')\n",
        "   print('Skipped as already replied to')\n",
        "   print('')\n",
        "   print('')\n",
        "else:\n",
        "  twitter_handle = '@' + screen_name\n",
        "  message = twitter_handle + \" \" + random.choice(list(open('African_novels1.txt')))\n",
        "  twitter.update_status(status=message, in_reply_to_status_id=id)\n",
        "  print(\"Tweeted: %s\" % message)\n",
        "  id = int(id)\n",
        "  ids_replied_to.append(id)\n",
        "with open('ids_replied_to.txt', 'w') as filehandle:\n",
        "  filehandle.writelines(\"%s\\n\" % place for place in ids_replied_to)\n",
        "  time.sleep(5)"
      ],
      "metadata": {
        "colab": {
          "base_uri": "https://localhost:8080/"
        },
        "id": "Y6az2JeDZhMY",
        "outputId": "2eab858e-1f85-4d1e-f436-d2cf7317f2ef"
      },
      "execution_count": 7,
      "outputs": [
        {
          "output_type": "stream",
          "name": "stdout",
          "text": [
            "Tweeted: @naforhere Foreign gods, inc. by Okey Ndibe \n",
            "\n"
          ]
        }
      ]
    },
    {
      "cell_type": "code",
      "source": [
        "gcloud functions deploy post_tweet --region europe-west1 --memory=128MB --env-vars-file .env --runtime python37 --trigger-http"
      ],
      "metadata": {
        "id": "QvONPYDMgiQu"
      },
      "execution_count": null,
      "outputs": []
    }
  ]
}
